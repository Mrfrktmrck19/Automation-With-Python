{
  "nbformat": 4,
  "nbformat_minor": 0,
  "metadata": {
    "colab": {
      "provenance": [],
      "mount_file_id": "1ntwP0JIpGDukIPiWxBFMwe_uPXVWYUxP",
      "authorship_tag": "ABX9TyM8giscMz7SwxvV29hkYeNO",
      "include_colab_link": true
    },
    "kernelspec": {
      "name": "python3",
      "display_name": "Python 3"
    },
    "language_info": {
      "name": "python"
    }
  },
  "cells": [
    {
      "cell_type": "markdown",
      "metadata": {
        "id": "view-in-github",
        "colab_type": "text"
      },
      "source": [
        "<a href=\"https://colab.research.google.com/github/Mrfrktmrck19/Automation-With-Python/blob/Email-automation/Email/email.ipynb\" target=\"_parent\"><img src=\"https://colab.research.google.com/assets/colab-badge.svg\" alt=\"Open In Colab\"/></a>"
      ]
    },
    {
      "cell_type": "code",
      "source": [
        "email_sender = \"mrfrktmrck@gmail.com\"\n",
        "email_receiver = [\"yasinas132@gmail.com\",\"omer.tomurcuk@ogr.sakarya.edu.tr\"]\n",
        "email_password = \"blablablabla\"\n",
        "# you should get the password google app password. It will give you a token. You should use it as a password."
      ],
      "metadata": {
        "id": "36tpn69PM1PR"
      },
      "execution_count": 17,
      "outputs": []
    },
    {
      "cell_type": "code",
      "source": [
        "subject= \"My first mail I sended with a automation system\"\n",
        "body = \"\"\"I am very jazzed. This was my first mail I sended with Python code.\"\"\"\n",
        "\n",
        "from email.message import EmailMessage\n",
        "em = EmailMessage()   #create an object\n",
        "em[\"From\"] = email_sender\n",
        "em[\"To\"] = email_receiver\n",
        "em[\"Subject\"] = subject\n",
        "em.set_content(body)"
      ],
      "metadata": {
        "id": "Mv6qiUCdswST"
      },
      "execution_count": 14,
      "outputs": []
    },
    {
      "cell_type": "code",
      "source": [
        "import ssl   # to send mail secure\n",
        "context = ssl.create_default_context() # to send mail via secured context"
      ],
      "metadata": {
        "id": "Wads9-NguDaB"
      },
      "execution_count": 15,
      "outputs": []
    },
    {
      "cell_type": "code",
      "source": [
        "import smtplib # simple mail transfer protocol\n",
        "# We'll use with statement to catch potential errors\n",
        "with smtplib.SMTP_SSL(\"smtp.gmail.com\",465,context=context) as smtp:\n",
        "  smtp.login(email_sender,email_password)\n",
        "  smtp.sendmail(email_sender,email_receiver,em.as_string())"
      ],
      "metadata": {
        "id": "XdzrJYR5uqdS"
      },
      "execution_count": 16,
      "outputs": []
    },
    {
      "cell_type": "code",
      "source": [],
      "metadata": {
        "id": "wuPq1AHxwS5S"
      },
      "execution_count": null,
      "outputs": []
    }
  ]
}